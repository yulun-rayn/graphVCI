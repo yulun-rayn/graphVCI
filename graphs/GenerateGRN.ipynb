{
 "cells": [
  {
   "cell_type": "code",
   "execution_count": 1,
   "metadata": {},
   "outputs": [],
   "source": [
    "import sys, os\n",
    "module_paths = [os.path.abspath('.'), os.path.abspath('..')]\n",
    "for module_path in module_paths:\n",
    "    if module_path not in sys.path:\n",
    "        sys.path.append(module_path)\n",
    "\n",
    "import numpy as np\n",
    "import pandas as pd\n",
    "import scanpy as sc\n",
    "import networkx as nx\n",
    "\n",
    "import torch\n",
    "import torch_geometric as pyg"
   ]
  },
  {
   "cell_type": "code",
   "execution_count": 2,
   "metadata": {},
   "outputs": [],
   "source": [
    "dataset = \"marson\" #\"sciplex\", \"L008\"\n",
    "\n",
    "# 1. initial\n",
    "graph = \"grn.pkl\"\n",
    "dimension = 8"
   ]
  },
  {
   "cell_type": "code",
   "execution_count": 3,
   "metadata": {},
   "outputs": [
    {
     "data": {
      "text/plain": [
       "'\\n# 2. updated\\ngraph = \"%s_grn.pkl\" % dataset\\ndimension = 64\\n'"
      ]
     },
     "execution_count": 3,
     "metadata": {},
     "output_type": "execute_result"
    }
   ],
   "source": [
    "'''\n",
    "# 2. updated\n",
    "graph = \"%s_grn.pkl\" % dataset\n",
    "dimension = 64\n",
    "'''"
   ]
  },
  {
   "cell_type": "code",
   "execution_count": 4,
   "metadata": {},
   "outputs": [
    {
     "data": {
      "text/html": [
       "<div>\n",
       "<style scoped>\n",
       "    .dataframe tbody tr th:only-of-type {\n",
       "        vertical-align: middle;\n",
       "    }\n",
       "\n",
       "    .dataframe tbody tr th {\n",
       "        vertical-align: top;\n",
       "    }\n",
       "\n",
       "    .dataframe thead th {\n",
       "        text-align: right;\n",
       "    }\n",
       "</style>\n",
       "<table border=\"1\" class=\"dataframe\">\n",
       "  <thead>\n",
       "    <tr style=\"text-align: right;\">\n",
       "      <th></th>\n",
       "      <th>ENSGNM</th>\n",
       "      <th>name</th>\n",
       "      <th>is_sgRNA</th>\n",
       "      <th>mito</th>\n",
       "      <th>highly_variable</th>\n",
       "      <th>means</th>\n",
       "      <th>dispersions</th>\n",
       "      <th>dispersions_norm</th>\n",
       "    </tr>\n",
       "  </thead>\n",
       "  <tbody>\n",
       "    <tr>\n",
       "      <th>ISG15</th>\n",
       "      <td>ENSG00000187608</td>\n",
       "      <td>ISG15</td>\n",
       "      <td>False</td>\n",
       "      <td>False</td>\n",
       "      <td>True</td>\n",
       "      <td>0.464187</td>\n",
       "      <td>0.646769</td>\n",
       "      <td>2.577193</td>\n",
       "    </tr>\n",
       "    <tr>\n",
       "      <th>TNFRSF18</th>\n",
       "      <td>ENSG00000186891</td>\n",
       "      <td>TNFRSF18</td>\n",
       "      <td>False</td>\n",
       "      <td>False</td>\n",
       "      <td>True</td>\n",
       "      <td>0.069438</td>\n",
       "      <td>0.918909</td>\n",
       "      <td>6.711458</td>\n",
       "    </tr>\n",
       "    <tr>\n",
       "      <th>TNFRSF4</th>\n",
       "      <td>ENSG00000186827</td>\n",
       "      <td>TNFRSF4</td>\n",
       "      <td>False</td>\n",
       "      <td>False</td>\n",
       "      <td>True</td>\n",
       "      <td>0.220937</td>\n",
       "      <td>1.205736</td>\n",
       "      <td>19.591536</td>\n",
       "    </tr>\n",
       "    <tr>\n",
       "      <th>SLC35E2A</th>\n",
       "      <td>ENSG00000215790</td>\n",
       "      <td>SLC35E2A</td>\n",
       "      <td>False</td>\n",
       "      <td>False</td>\n",
       "      <td>True</td>\n",
       "      <td>0.054039</td>\n",
       "      <td>0.745175</td>\n",
       "      <td>1.580994</td>\n",
       "    </tr>\n",
       "    <tr>\n",
       "      <th>PLCH2</th>\n",
       "      <td>ENSG00000149527</td>\n",
       "      <td>PLCH2</td>\n",
       "      <td>False</td>\n",
       "      <td>False</td>\n",
       "      <td>True</td>\n",
       "      <td>0.002080</td>\n",
       "      <td>0.842152</td>\n",
       "      <td>1.986914</td>\n",
       "    </tr>\n",
       "    <tr>\n",
       "      <th>...</th>\n",
       "      <td>...</td>\n",
       "      <td>...</td>\n",
       "      <td>...</td>\n",
       "      <td>...</td>\n",
       "      <td>...</td>\n",
       "      <td>...</td>\n",
       "      <td>...</td>\n",
       "      <td>...</td>\n",
       "    </tr>\n",
       "    <tr>\n",
       "      <th>UTY</th>\n",
       "      <td>ENSG00000183878</td>\n",
       "      <td>UTY</td>\n",
       "      <td>False</td>\n",
       "      <td>False</td>\n",
       "      <td>True</td>\n",
       "      <td>0.063287</td>\n",
       "      <td>0.762314</td>\n",
       "      <td>2.413199</td>\n",
       "    </tr>\n",
       "    <tr>\n",
       "      <th>TTTY14</th>\n",
       "      <td>ENSG00000176728</td>\n",
       "      <td>TTTY14</td>\n",
       "      <td>False</td>\n",
       "      <td>False</td>\n",
       "      <td>True</td>\n",
       "      <td>0.008703</td>\n",
       "      <td>0.807486</td>\n",
       "      <td>1.762861</td>\n",
       "    </tr>\n",
       "    <tr>\n",
       "      <th>KDM5D</th>\n",
       "      <td>ENSG00000012817</td>\n",
       "      <td>KDM5D</td>\n",
       "      <td>False</td>\n",
       "      <td>False</td>\n",
       "      <td>True</td>\n",
       "      <td>0.047676</td>\n",
       "      <td>0.753803</td>\n",
       "      <td>1.807152</td>\n",
       "    </tr>\n",
       "    <tr>\n",
       "      <th>TTTY10</th>\n",
       "      <td>ENSG00000229236</td>\n",
       "      <td>TTTY10</td>\n",
       "      <td>False</td>\n",
       "      <td>False</td>\n",
       "      <td>True</td>\n",
       "      <td>0.007920</td>\n",
       "      <td>0.810274</td>\n",
       "      <td>1.819597</td>\n",
       "    </tr>\n",
       "    <tr>\n",
       "      <th>EIF1AY</th>\n",
       "      <td>ENSG00000198692</td>\n",
       "      <td>EIF1AY</td>\n",
       "      <td>False</td>\n",
       "      <td>False</td>\n",
       "      <td>True</td>\n",
       "      <td>0.250429</td>\n",
       "      <td>0.782997</td>\n",
       "      <td>5.876624</td>\n",
       "    </tr>\n",
       "  </tbody>\n",
       "</table>\n",
       "<p>2013 rows × 8 columns</p>\n",
       "</div>"
      ],
      "text/plain": [
       "                   ENSGNM      name  is_sgRNA   mito  highly_variable  \\\n",
       "ISG15     ENSG00000187608     ISG15     False  False             True   \n",
       "TNFRSF18  ENSG00000186891  TNFRSF18     False  False             True   \n",
       "TNFRSF4   ENSG00000186827   TNFRSF4     False  False             True   \n",
       "SLC35E2A  ENSG00000215790  SLC35E2A     False  False             True   \n",
       "PLCH2     ENSG00000149527     PLCH2     False  False             True   \n",
       "...                   ...       ...       ...    ...              ...   \n",
       "UTY       ENSG00000183878       UTY     False  False             True   \n",
       "TTTY14    ENSG00000176728    TTTY14     False  False             True   \n",
       "KDM5D     ENSG00000012817     KDM5D     False  False             True   \n",
       "TTTY10    ENSG00000229236    TTTY10     False  False             True   \n",
       "EIF1AY    ENSG00000198692    EIF1AY     False  False             True   \n",
       "\n",
       "             means  dispersions  dispersions_norm  \n",
       "ISG15     0.464187     0.646769          2.577193  \n",
       "TNFRSF18  0.069438     0.918909          6.711458  \n",
       "TNFRSF4   0.220937     1.205736         19.591536  \n",
       "SLC35E2A  0.054039     0.745175          1.580994  \n",
       "PLCH2     0.002080     0.842152          1.986914  \n",
       "...            ...          ...               ...  \n",
       "UTY       0.063287     0.762314          2.413199  \n",
       "TTTY14    0.008703     0.807486          1.762861  \n",
       "KDM5D     0.047676     0.753803          1.807152  \n",
       "TTTY10    0.007920     0.810274          1.819597  \n",
       "EIF1AY    0.250429     0.782997          5.876624  \n",
       "\n",
       "[2013 rows x 8 columns]"
      ]
     },
     "execution_count": 4,
     "metadata": {},
     "output_type": "execute_result"
    }
   ],
   "source": [
    "adata = sc.read('../datasets/%s_prepped.h5ad' % dataset)\n",
    "adata.var"
   ]
  },
  {
   "cell_type": "code",
   "execution_count": 5,
   "metadata": {},
   "outputs": [
    {
     "data": {
      "text/plain": [
       "array(['ISG15', 'TNFRSF18', 'TNFRSF4', ..., 'KDM5D', 'TTTY10', 'EIF1AY'],\n",
       "      dtype=object)"
      ]
     },
     "execution_count": 5,
     "metadata": {},
     "output_type": "execute_result"
    }
   ],
   "source": [
    "nodes = np.array(adata.var.index)\n",
    "nodes"
   ]
  },
  {
   "cell_type": "code",
   "execution_count": 6,
   "metadata": {},
   "outputs": [],
   "source": [
    "source_path = \"./node/source/%s\" % dataset\n",
    "export_path = \"./node/export/%s\" % dataset\n",
    "os.makedirs(source_path, exist_ok=True)\n",
    "os.makedirs(export_path, exist_ok=True)"
   ]
  },
  {
   "cell_type": "code",
   "execution_count": 7,
   "metadata": {},
   "outputs": [],
   "source": [
    "np.savetxt(os.path.join(source_path, \"genes.txt\"),\n",
    "    np.expand_dims(nodes, 1), fmt=\"%s\"\n",
    ")"
   ]
  },
  {
   "cell_type": "code",
   "execution_count": 8,
   "metadata": {},
   "outputs": [
    {
     "name": "stdout",
     "output_type": "stream",
     "text": [
      "2023-04-13 00:01:55.379201\n",
      "current file genes.txt num: 1 total files 1\n",
      "2023-04-13 00:01:55.381714\n",
      "shuffle start 2013\n",
      "2023-04-13 00:01:55.382906\n",
      "shuffle done 2013\n",
      "gene2vec dimension 8 iteration 1 start\n",
      "gene2vec dimension 8 iteration 1 done\n",
      "2023-04-13 00:01:56.125130\n",
      "shuffle start 2013\n",
      "2023-04-13 00:01:56.126350\n",
      "shuffle done 2013\n",
      "gene2vec dimension 8 iteration 2 start\n",
      "gene2vec dimension 8 iteration 2 done\n",
      "2023-04-13 00:01:56.487606\n",
      "shuffle start 2013\n",
      "2023-04-13 00:01:56.488896\n",
      "shuffle done 2013\n",
      "gene2vec dimension 8 iteration 3 start\n",
      "gene2vec dimension 8 iteration 3 done\n",
      "2023-04-13 00:01:56.717192\n",
      "shuffle start 2013\n",
      "2023-04-13 00:01:56.718600\n",
      "shuffle done 2013\n",
      "gene2vec dimension 8 iteration 4 start\n",
      "gene2vec dimension 8 iteration 4 done\n",
      "2023-04-13 00:01:56.963208\n",
      "shuffle start 2013\n",
      "2023-04-13 00:01:56.964628\n",
      "shuffle done 2013\n",
      "gene2vec dimension 8 iteration 5 start\n",
      "gene2vec dimension 8 iteration 5 done\n",
      "2023-04-13 00:01:57.138769\n",
      "shuffle start 2013\n",
      "2023-04-13 00:01:57.140060\n",
      "shuffle done 2013\n",
      "gene2vec dimension 8 iteration 6 start\n",
      "gene2vec dimension 8 iteration 6 done\n",
      "2023-04-13 00:01:57.357873\n",
      "shuffle start 2013\n",
      "2023-04-13 00:01:57.359119\n",
      "shuffle done 2013\n",
      "gene2vec dimension 8 iteration 7 start\n",
      "gene2vec dimension 8 iteration 7 done\n",
      "2023-04-13 00:01:57.615926\n",
      "shuffle start 2013\n",
      "2023-04-13 00:01:57.617217\n",
      "shuffle done 2013\n",
      "gene2vec dimension 8 iteration 8 start\n",
      "gene2vec dimension 8 iteration 8 done\n",
      "2023-04-13 00:01:57.825785\n",
      "shuffle start 2013\n",
      "2023-04-13 00:01:57.827007\n",
      "shuffle done 2013\n",
      "gene2vec dimension 8 iteration 9 start\n",
      "gene2vec dimension 8 iteration 9 done\n",
      "2023-04-13 00:01:58.081788\n",
      "shuffle start 2013\n",
      "2023-04-13 00:01:58.083074\n",
      "shuffle done 2013\n",
      "gene2vec dimension 8 iteration 10 start\n",
      "gene2vec dimension 8 iteration 10 done\n"
     ]
    }
   ],
   "source": [
    "from node.gene2vec import gene2vec\n",
    "\n",
    "gene2vec(os.path.abspath(source_path), os.path.abspath(export_path), 'txt', dimension=dimension)"
   ]
  },
  {
   "cell_type": "code",
   "execution_count": 9,
   "metadata": {},
   "outputs": [
    {
     "data": {
      "text/html": [
       "<div>\n",
       "<style scoped>\n",
       "    .dataframe tbody tr th:only-of-type {\n",
       "        vertical-align: middle;\n",
       "    }\n",
       "\n",
       "    .dataframe tbody tr th {\n",
       "        vertical-align: top;\n",
       "    }\n",
       "\n",
       "    .dataframe thead th {\n",
       "        text-align: right;\n",
       "    }\n",
       "</style>\n",
       "<table border=\"1\" class=\"dataframe\">\n",
       "  <thead>\n",
       "    <tr style=\"text-align: right;\">\n",
       "      <th></th>\n",
       "      <th>1</th>\n",
       "      <th>2</th>\n",
       "      <th>3</th>\n",
       "      <th>4</th>\n",
       "      <th>5</th>\n",
       "      <th>6</th>\n",
       "      <th>7</th>\n",
       "      <th>8</th>\n",
       "    </tr>\n",
       "    <tr>\n",
       "      <th>0</th>\n",
       "      <th></th>\n",
       "      <th></th>\n",
       "      <th></th>\n",
       "      <th></th>\n",
       "      <th></th>\n",
       "      <th></th>\n",
       "      <th></th>\n",
       "      <th></th>\n",
       "    </tr>\n",
       "  </thead>\n",
       "  <tbody>\n",
       "    <tr>\n",
       "      <th>TRDC</th>\n",
       "      <td>-0.014802</td>\n",
       "      <td>0.044940</td>\n",
       "      <td>-0.048579</td>\n",
       "      <td>0.022127</td>\n",
       "      <td>0.009083</td>\n",
       "      <td>-0.035273</td>\n",
       "      <td>-0.034215</td>\n",
       "      <td>-0.013072</td>\n",
       "    </tr>\n",
       "    <tr>\n",
       "      <th>AC008555.4</th>\n",
       "      <td>-0.027248</td>\n",
       "      <td>-0.000775</td>\n",
       "      <td>0.046132</td>\n",
       "      <td>-0.014350</td>\n",
       "      <td>0.036312</td>\n",
       "      <td>-0.003436</td>\n",
       "      <td>-0.031057</td>\n",
       "      <td>0.051704</td>\n",
       "    </tr>\n",
       "    <tr>\n",
       "      <th>ZNF91</th>\n",
       "      <td>0.056041</td>\n",
       "      <td>-0.030958</td>\n",
       "      <td>0.039535</td>\n",
       "      <td>-0.008874</td>\n",
       "      <td>-0.013574</td>\n",
       "      <td>0.021708</td>\n",
       "      <td>-0.035313</td>\n",
       "      <td>-0.021563</td>\n",
       "    </tr>\n",
       "    <tr>\n",
       "      <th>CPM</th>\n",
       "      <td>0.029942</td>\n",
       "      <td>-0.061144</td>\n",
       "      <td>-0.008050</td>\n",
       "      <td>-0.046416</td>\n",
       "      <td>-0.056540</td>\n",
       "      <td>0.012549</td>\n",
       "      <td>0.015265</td>\n",
       "      <td>-0.014975</td>\n",
       "    </tr>\n",
       "    <tr>\n",
       "      <th>AL137779.1</th>\n",
       "      <td>0.050672</td>\n",
       "      <td>-0.029744</td>\n",
       "      <td>-0.026961</td>\n",
       "      <td>0.000353</td>\n",
       "      <td>-0.008679</td>\n",
       "      <td>-0.032039</td>\n",
       "      <td>-0.004612</td>\n",
       "      <td>-0.027411</td>\n",
       "    </tr>\n",
       "    <tr>\n",
       "      <th>...</th>\n",
       "      <td>...</td>\n",
       "      <td>...</td>\n",
       "      <td>...</td>\n",
       "      <td>...</td>\n",
       "      <td>...</td>\n",
       "      <td>...</td>\n",
       "      <td>...</td>\n",
       "      <td>...</td>\n",
       "    </tr>\n",
       "    <tr>\n",
       "      <th>SERPINB9</th>\n",
       "      <td>-0.026467</td>\n",
       "      <td>0.034402</td>\n",
       "      <td>0.044665</td>\n",
       "      <td>-0.000727</td>\n",
       "      <td>-0.035947</td>\n",
       "      <td>-0.017527</td>\n",
       "      <td>-0.058751</td>\n",
       "      <td>-0.032231</td>\n",
       "    </tr>\n",
       "    <tr>\n",
       "      <th>TMOD2</th>\n",
       "      <td>-0.017628</td>\n",
       "      <td>-0.050379</td>\n",
       "      <td>0.011948</td>\n",
       "      <td>-0.002261</td>\n",
       "      <td>0.047951</td>\n",
       "      <td>0.039177</td>\n",
       "      <td>0.046972</td>\n",
       "      <td>-0.057398</td>\n",
       "    </tr>\n",
       "    <tr>\n",
       "      <th>CD2</th>\n",
       "      <td>-0.003123</td>\n",
       "      <td>-0.059434</td>\n",
       "      <td>-0.000001</td>\n",
       "      <td>-0.039323</td>\n",
       "      <td>-0.004405</td>\n",
       "      <td>-0.017672</td>\n",
       "      <td>-0.032516</td>\n",
       "      <td>0.000295</td>\n",
       "    </tr>\n",
       "    <tr>\n",
       "      <th>DISC1</th>\n",
       "      <td>0.012189</td>\n",
       "      <td>-0.019545</td>\n",
       "      <td>-0.032533</td>\n",
       "      <td>0.015102</td>\n",
       "      <td>0.016515</td>\n",
       "      <td>-0.024574</td>\n",
       "      <td>-0.002918</td>\n",
       "      <td>-0.011705</td>\n",
       "    </tr>\n",
       "    <tr>\n",
       "      <th>CEBPD</th>\n",
       "      <td>0.030771</td>\n",
       "      <td>0.023413</td>\n",
       "      <td>0.062415</td>\n",
       "      <td>-0.023434</td>\n",
       "      <td>-0.023608</td>\n",
       "      <td>-0.003238</td>\n",
       "      <td>-0.043370</td>\n",
       "      <td>-0.033699</td>\n",
       "    </tr>\n",
       "  </tbody>\n",
       "</table>\n",
       "<p>2013 rows × 8 columns</p>\n",
       "</div>"
      ],
      "text/plain": [
       "                   1         2         3         4         5         6  \\\n",
       "0                                                                        \n",
       "TRDC       -0.014802  0.044940 -0.048579  0.022127  0.009083 -0.035273   \n",
       "AC008555.4 -0.027248 -0.000775  0.046132 -0.014350  0.036312 -0.003436   \n",
       "ZNF91       0.056041 -0.030958  0.039535 -0.008874 -0.013574  0.021708   \n",
       "CPM         0.029942 -0.061144 -0.008050 -0.046416 -0.056540  0.012549   \n",
       "AL137779.1  0.050672 -0.029744 -0.026961  0.000353 -0.008679 -0.032039   \n",
       "...              ...       ...       ...       ...       ...       ...   \n",
       "SERPINB9   -0.026467  0.034402  0.044665 -0.000727 -0.035947 -0.017527   \n",
       "TMOD2      -0.017628 -0.050379  0.011948 -0.002261  0.047951  0.039177   \n",
       "CD2        -0.003123 -0.059434 -0.000001 -0.039323 -0.004405 -0.017672   \n",
       "DISC1       0.012189 -0.019545 -0.032533  0.015102  0.016515 -0.024574   \n",
       "CEBPD       0.030771  0.023413  0.062415 -0.023434 -0.023608 -0.003238   \n",
       "\n",
       "                   7         8  \n",
       "0                               \n",
       "TRDC       -0.034215 -0.013072  \n",
       "AC008555.4 -0.031057  0.051704  \n",
       "ZNF91      -0.035313 -0.021563  \n",
       "CPM         0.015265 -0.014975  \n",
       "AL137779.1 -0.004612 -0.027411  \n",
       "...              ...       ...  \n",
       "SERPINB9   -0.058751 -0.032231  \n",
       "TMOD2       0.046972 -0.057398  \n",
       "CD2        -0.032516  0.000295  \n",
       "DISC1      -0.002918 -0.011705  \n",
       "CEBPD      -0.043370 -0.033699  \n",
       "\n",
       "[2013 rows x 8 columns]"
      ]
     },
     "execution_count": 9,
     "metadata": {},
     "output_type": "execute_result"
    }
   ],
   "source": [
    "nodes_emb = pd.read_csv(os.path.join(export_path, \"gene2vec_dim_%s_iter_10.txt\") % dimension, sep=\" \", index_col=0, header=None)\n",
    "nodes_emb"
   ]
  },
  {
   "cell_type": "code",
   "execution_count": 10,
   "metadata": {},
   "outputs": [],
   "source": [
    "nodes_emb_dict = nodes_emb.T.to_dict('list')"
   ]
  },
  {
   "cell_type": "code",
   "execution_count": 11,
   "metadata": {},
   "outputs": [],
   "source": [
    "import pickle\n",
    "'''\n",
    "from src.utils.graph_utils import parse_grn\n",
    "\n",
    "graph_df = pd.read_parquet('hg19_TFinfo_dataframe_gimmemotifsv5_fpr2_threshold_10_20210630.parquet')\n",
    "nx_graph = parse_grn(graph_df, 'gene_short_name')\n",
    "\n",
    "pickle.dump(nx_graph, open('./grn.pkl', 'wb'))\n",
    "'''\n",
    "with open(graph, 'rb') as f:\n",
    "    nx_graph = pickle.load(f)"
   ]
  },
  {
   "cell_type": "code",
   "execution_count": 12,
   "metadata": {},
   "outputs": [],
   "source": [
    "for n in nodes:\n",
    "    if not nx_graph.has_node(n):\n",
    "        nx_graph.add_node(n)\n",
    "def filter_node(n):\n",
    "    return n in nodes\n",
    "nx_graph = nx.subgraph_view(nx_graph, filter_node)"
   ]
  },
  {
   "cell_type": "code",
   "execution_count": 13,
   "metadata": {},
   "outputs": [],
   "source": [
    "nodes_dict = dict(zip(nodes, range(len(nodes))))"
   ]
  },
  {
   "cell_type": "code",
   "execution_count": 14,
   "metadata": {},
   "outputs": [],
   "source": [
    "x = []\n",
    "edge_index = []\n",
    "for i, node in enumerate(nodes):\n",
    "    x.append(nodes_emb_dict[node])\n",
    "\n",
    "    edges = list(nx_graph.in_edges(node))\n",
    "    edges = [(nodes_dict[n[0]], i) for n in edges]\n",
    "    edge_index.extend(edges)"
   ]
  },
  {
   "cell_type": "code",
   "execution_count": 15,
   "metadata": {},
   "outputs": [
    {
     "data": {
      "text/plain": [
       "torch.Size([2013, 8])"
      ]
     },
     "execution_count": 15,
     "metadata": {},
     "output_type": "execute_result"
    }
   ],
   "source": [
    "x = torch.Tensor(x)\n",
    "x.size()"
   ]
  },
  {
   "cell_type": "code",
   "execution_count": 16,
   "metadata": {},
   "outputs": [
    {
     "data": {
      "text/plain": [
       "torch.Size([42563, 2])"
      ]
     },
     "execution_count": 16,
     "metadata": {},
     "output_type": "execute_result"
    }
   ],
   "source": [
    "edge_index = torch.LongTensor(edge_index)\n",
    "edge_index.size()"
   ]
  },
  {
   "cell_type": "code",
   "execution_count": 17,
   "metadata": {},
   "outputs": [],
   "source": [
    "grn = pyg.data.Data(x, edge_index.t())\n",
    "torch.save(grn, '%s_grn_%s.pth' % (dataset, dimension))"
   ]
  },
  {
   "cell_type": "code",
   "execution_count": 18,
   "metadata": {},
   "outputs": [
    {
     "data": {
      "text/plain": [
       "Data(x=[2013, 8], edge_index=[2, 42563])"
      ]
     },
     "execution_count": 18,
     "metadata": {},
     "output_type": "execute_result"
    }
   ],
   "source": [
    "torch.load('%s_grn_%s.pth' % (dataset, dimension))"
   ]
  }
 ],
 "metadata": {
  "kernelspec": {
   "display_name": "gvci-env",
   "language": "python",
   "name": "python3"
  },
  "language_info": {
   "codemirror_mode": {
    "name": "ipython",
    "version": 3
   },
   "file_extension": ".py",
   "mimetype": "text/x-python",
   "name": "python",
   "nbconvert_exporter": "python",
   "pygments_lexer": "ipython3",
   "version": "3.9.0"
  },
  "orig_nbformat": 4,
  "vscode": {
   "interpreter": {
    "hash": "246445985e60bb8ea4bb274899de12a0f6ebd665e13aa658c1b65f16957bb17a"
   }
  }
 },
 "nbformat": 4,
 "nbformat_minor": 2
}
