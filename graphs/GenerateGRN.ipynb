{
 "cells": [
  {
   "cell_type": "code",
   "execution_count": 1,
   "metadata": {},
   "outputs": [],
   "source": [
    "import sys, os\n",
    "module_paths = [os.path.abspath('.'), os.path.abspath('..')]\n",
    "for module_path in module_paths:\n",
    "    if module_path not in sys.path:\n",
    "        sys.path.append(module_path)\n",
    "\n",
    "import numpy as np\n",
    "import pandas as pd\n",
    "import scanpy as sc\n",
    "import networkx as nx\n",
    "\n",
    "import torch\n",
    "import torch_geometric as pyg"
   ]
  },
  {
   "cell_type": "code",
   "execution_count": 2,
   "metadata": {},
   "outputs": [],
   "source": [
    "dataset = \"marson\" #\"sciplex\", \"L008\"\n",
    "\n",
    "# 1. initial\n",
    "graph = \"grn.pkl\"\n",
    "dimension = 8"
   ]
  },
  {
   "cell_type": "code",
   "execution_count": 3,
   "metadata": {},
   "outputs": [
    {
     "data": {
      "text/plain": [
       "'\\n# 2. updated\\ngraph = \"%s_grn.pkl\" % dataset\\ndimension = 128\\n'"
      ]
     },
     "execution_count": 3,
     "metadata": {},
     "output_type": "execute_result"
    }
   ],
   "source": [
    "'''\n",
    "# 2. updated\n",
    "graph = \"%s_grn.pkl\" % dataset\n",
    "dimension = 128\n",
    "'''"
   ]
  },
  {
   "cell_type": "code",
   "execution_count": 4,
   "metadata": {},
   "outputs": [
    {
     "data": {
      "text/html": [
       "<div>\n",
       "<style scoped>\n",
       "    .dataframe tbody tr th:only-of-type {\n",
       "        vertical-align: middle;\n",
       "    }\n",
       "\n",
       "    .dataframe tbody tr th {\n",
       "        vertical-align: top;\n",
       "    }\n",
       "\n",
       "    .dataframe thead th {\n",
       "        text-align: right;\n",
       "    }\n",
       "</style>\n",
       "<table border=\"1\" class=\"dataframe\">\n",
       "  <thead>\n",
       "    <tr style=\"text-align: right;\">\n",
       "      <th></th>\n",
       "      <th>ENSGNM</th>\n",
       "      <th>name</th>\n",
       "      <th>is_sgRNA</th>\n",
       "      <th>mito</th>\n",
       "      <th>highly_variable</th>\n",
       "      <th>means</th>\n",
       "      <th>dispersions</th>\n",
       "      <th>dispersions_norm</th>\n",
       "    </tr>\n",
       "  </thead>\n",
       "  <tbody>\n",
       "    <tr>\n",
       "      <th>ISG15</th>\n",
       "      <td>ENSG00000187608</td>\n",
       "      <td>ISG15</td>\n",
       "      <td>False</td>\n",
       "      <td>False</td>\n",
       "      <td>True</td>\n",
       "      <td>0.464187</td>\n",
       "      <td>0.646769</td>\n",
       "      <td>2.577193</td>\n",
       "    </tr>\n",
       "    <tr>\n",
       "      <th>TNFRSF18</th>\n",
       "      <td>ENSG00000186891</td>\n",
       "      <td>TNFRSF18</td>\n",
       "      <td>False</td>\n",
       "      <td>False</td>\n",
       "      <td>True</td>\n",
       "      <td>0.069438</td>\n",
       "      <td>0.918909</td>\n",
       "      <td>6.711458</td>\n",
       "    </tr>\n",
       "    <tr>\n",
       "      <th>TNFRSF4</th>\n",
       "      <td>ENSG00000186827</td>\n",
       "      <td>TNFRSF4</td>\n",
       "      <td>False</td>\n",
       "      <td>False</td>\n",
       "      <td>True</td>\n",
       "      <td>0.220937</td>\n",
       "      <td>1.205736</td>\n",
       "      <td>19.591536</td>\n",
       "    </tr>\n",
       "    <tr>\n",
       "      <th>SLC35E2A</th>\n",
       "      <td>ENSG00000215790</td>\n",
       "      <td>SLC35E2A</td>\n",
       "      <td>False</td>\n",
       "      <td>False</td>\n",
       "      <td>True</td>\n",
       "      <td>0.054039</td>\n",
       "      <td>0.745175</td>\n",
       "      <td>1.580994</td>\n",
       "    </tr>\n",
       "    <tr>\n",
       "      <th>PLCH2</th>\n",
       "      <td>ENSG00000149527</td>\n",
       "      <td>PLCH2</td>\n",
       "      <td>False</td>\n",
       "      <td>False</td>\n",
       "      <td>True</td>\n",
       "      <td>0.002080</td>\n",
       "      <td>0.842152</td>\n",
       "      <td>1.986914</td>\n",
       "    </tr>\n",
       "    <tr>\n",
       "      <th>...</th>\n",
       "      <td>...</td>\n",
       "      <td>...</td>\n",
       "      <td>...</td>\n",
       "      <td>...</td>\n",
       "      <td>...</td>\n",
       "      <td>...</td>\n",
       "      <td>...</td>\n",
       "      <td>...</td>\n",
       "    </tr>\n",
       "    <tr>\n",
       "      <th>UTY</th>\n",
       "      <td>ENSG00000183878</td>\n",
       "      <td>UTY</td>\n",
       "      <td>False</td>\n",
       "      <td>False</td>\n",
       "      <td>True</td>\n",
       "      <td>0.063287</td>\n",
       "      <td>0.762314</td>\n",
       "      <td>2.413199</td>\n",
       "    </tr>\n",
       "    <tr>\n",
       "      <th>TTTY14</th>\n",
       "      <td>ENSG00000176728</td>\n",
       "      <td>TTTY14</td>\n",
       "      <td>False</td>\n",
       "      <td>False</td>\n",
       "      <td>True</td>\n",
       "      <td>0.008703</td>\n",
       "      <td>0.807486</td>\n",
       "      <td>1.762861</td>\n",
       "    </tr>\n",
       "    <tr>\n",
       "      <th>KDM5D</th>\n",
       "      <td>ENSG00000012817</td>\n",
       "      <td>KDM5D</td>\n",
       "      <td>False</td>\n",
       "      <td>False</td>\n",
       "      <td>True</td>\n",
       "      <td>0.047676</td>\n",
       "      <td>0.753803</td>\n",
       "      <td>1.807152</td>\n",
       "    </tr>\n",
       "    <tr>\n",
       "      <th>TTTY10</th>\n",
       "      <td>ENSG00000229236</td>\n",
       "      <td>TTTY10</td>\n",
       "      <td>False</td>\n",
       "      <td>False</td>\n",
       "      <td>True</td>\n",
       "      <td>0.007920</td>\n",
       "      <td>0.810274</td>\n",
       "      <td>1.819597</td>\n",
       "    </tr>\n",
       "    <tr>\n",
       "      <th>EIF1AY</th>\n",
       "      <td>ENSG00000198692</td>\n",
       "      <td>EIF1AY</td>\n",
       "      <td>False</td>\n",
       "      <td>False</td>\n",
       "      <td>True</td>\n",
       "      <td>0.250429</td>\n",
       "      <td>0.782997</td>\n",
       "      <td>5.876624</td>\n",
       "    </tr>\n",
       "  </tbody>\n",
       "</table>\n",
       "<p>2013 rows × 8 columns</p>\n",
       "</div>"
      ],
      "text/plain": [
       "                   ENSGNM      name  is_sgRNA   mito  highly_variable  \\\n",
       "ISG15     ENSG00000187608     ISG15     False  False             True   \n",
       "TNFRSF18  ENSG00000186891  TNFRSF18     False  False             True   \n",
       "TNFRSF4   ENSG00000186827   TNFRSF4     False  False             True   \n",
       "SLC35E2A  ENSG00000215790  SLC35E2A     False  False             True   \n",
       "PLCH2     ENSG00000149527     PLCH2     False  False             True   \n",
       "...                   ...       ...       ...    ...              ...   \n",
       "UTY       ENSG00000183878       UTY     False  False             True   \n",
       "TTTY14    ENSG00000176728    TTTY14     False  False             True   \n",
       "KDM5D     ENSG00000012817     KDM5D     False  False             True   \n",
       "TTTY10    ENSG00000229236    TTTY10     False  False             True   \n",
       "EIF1AY    ENSG00000198692    EIF1AY     False  False             True   \n",
       "\n",
       "             means  dispersions  dispersions_norm  \n",
       "ISG15     0.464187     0.646769          2.577193  \n",
       "TNFRSF18  0.069438     0.918909          6.711458  \n",
       "TNFRSF4   0.220937     1.205736         19.591536  \n",
       "SLC35E2A  0.054039     0.745175          1.580994  \n",
       "PLCH2     0.002080     0.842152          1.986914  \n",
       "...            ...          ...               ...  \n",
       "UTY       0.063287     0.762314          2.413199  \n",
       "TTTY14    0.008703     0.807486          1.762861  \n",
       "KDM5D     0.047676     0.753803          1.807152  \n",
       "TTTY10    0.007920     0.810274          1.819597  \n",
       "EIF1AY    0.250429     0.782997          5.876624  \n",
       "\n",
       "[2013 rows x 8 columns]"
      ]
     },
     "execution_count": 4,
     "metadata": {},
     "output_type": "execute_result"
    }
   ],
   "source": [
    "adata = sc.read('../datasets/%s_prepped.h5ad' % dataset)\n",
    "adata.var"
   ]
  },
  {
   "cell_type": "code",
   "execution_count": 5,
   "metadata": {},
   "outputs": [
    {
     "data": {
      "text/plain": [
       "array(['ISG15', 'TNFRSF18', 'TNFRSF4', ..., 'KDM5D', 'TTTY10', 'EIF1AY'],\n",
       "      dtype=object)"
      ]
     },
     "execution_count": 5,
     "metadata": {},
     "output_type": "execute_result"
    }
   ],
   "source": [
    "nodes = np.array(adata.var.index)\n",
    "nodes"
   ]
  },
  {
   "cell_type": "code",
   "execution_count": 6,
   "metadata": {},
   "outputs": [],
   "source": [
    "source_path = \"./node/source/%s\" % dataset\n",
    "export_path = \"./node/export/%s\" % dataset\n",
    "os.makedirs(source_path, exist_ok=True)\n",
    "os.makedirs(export_path, exist_ok=True)"
   ]
  },
  {
   "cell_type": "code",
   "execution_count": 7,
   "metadata": {},
   "outputs": [],
   "source": [
    "np.savetxt(os.path.join(source_path, \"genes.txt\"),\n",
    "    np.expand_dims(nodes, 1), fmt=\"%s\"\n",
    ")"
   ]
  },
  {
   "cell_type": "code",
   "execution_count": 8,
   "metadata": {},
   "outputs": [
    {
     "name": "stdout",
     "output_type": "stream",
     "text": [
      "2023-03-06 01:45:52.263930\n",
      "current file genes.txt num: 1 total files 1\n",
      "2023-03-06 01:45:52.266395\n",
      "shuffle start 2013\n",
      "2023-03-06 01:45:52.267589\n",
      "shuffle done 2013\n",
      "gene2vec dimension 8 iteration 1 start\n",
      "gene2vec dimension 8 iteration 1 done\n",
      "2023-03-06 01:45:52.677112\n",
      "shuffle start 2013\n",
      "2023-03-06 01:45:52.678309\n",
      "shuffle done 2013\n",
      "gene2vec dimension 8 iteration 2 start\n",
      "gene2vec dimension 8 iteration 2 done\n",
      "2023-03-06 01:45:52.849686\n",
      "shuffle start 2013\n",
      "2023-03-06 01:45:52.850959\n",
      "shuffle done 2013\n",
      "gene2vec dimension 8 iteration 3 start\n",
      "gene2vec dimension 8 iteration 3 done\n",
      "2023-03-06 01:45:52.888199\n",
      "shuffle start 2013\n",
      "2023-03-06 01:45:52.888933\n",
      "shuffle done 2013\n",
      "gene2vec dimension 8 iteration 4 start\n",
      "gene2vec dimension 8 iteration 4 done\n",
      "2023-03-06 01:45:52.925776\n",
      "shuffle start 2013\n",
      "2023-03-06 01:45:52.926510\n",
      "shuffle done 2013\n",
      "gene2vec dimension 8 iteration 5 start\n",
      "gene2vec dimension 8 iteration 5 done\n",
      "2023-03-06 01:45:52.962992\n",
      "shuffle start 2013\n",
      "2023-03-06 01:45:52.963717\n",
      "shuffle done 2013\n",
      "gene2vec dimension 8 iteration 6 start\n",
      "gene2vec dimension 8 iteration 6 done\n",
      "2023-03-06 01:45:52.999815\n",
      "shuffle start 2013\n",
      "2023-03-06 01:45:53.000541\n",
      "shuffle done 2013\n",
      "gene2vec dimension 8 iteration 7 start\n",
      "gene2vec dimension 8 iteration 7 done\n",
      "2023-03-06 01:45:53.037133\n",
      "shuffle start 2013\n",
      "2023-03-06 01:45:53.037855\n",
      "shuffle done 2013\n",
      "gene2vec dimension 8 iteration 8 start\n",
      "gene2vec dimension 8 iteration 8 done\n",
      "2023-03-06 01:45:53.074482\n",
      "shuffle start 2013\n",
      "2023-03-06 01:45:53.075207\n",
      "shuffle done 2013\n",
      "gene2vec dimension 8 iteration 9 start\n",
      "gene2vec dimension 8 iteration 9 done\n",
      "2023-03-06 01:45:53.111966\n",
      "shuffle start 2013\n",
      "2023-03-06 01:45:53.112719\n",
      "shuffle done 2013\n",
      "gene2vec dimension 8 iteration 10 start\n",
      "gene2vec dimension 8 iteration 10 done\n"
     ]
    }
   ],
   "source": [
    "from node.gene2vec import gene2vec\n",
    "\n",
    "gene2vec(os.path.abspath(source_path), os.path.abspath(export_path), 'txt', dimension=dimension)"
   ]
  },
  {
   "cell_type": "code",
   "execution_count": 9,
   "metadata": {},
   "outputs": [
    {
     "data": {
      "text/html": [
       "<div>\n",
       "<style scoped>\n",
       "    .dataframe tbody tr th:only-of-type {\n",
       "        vertical-align: middle;\n",
       "    }\n",
       "\n",
       "    .dataframe tbody tr th {\n",
       "        vertical-align: top;\n",
       "    }\n",
       "\n",
       "    .dataframe thead th {\n",
       "        text-align: right;\n",
       "    }\n",
       "</style>\n",
       "<table border=\"1\" class=\"dataframe\">\n",
       "  <thead>\n",
       "    <tr style=\"text-align: right;\">\n",
       "      <th></th>\n",
       "      <th>1</th>\n",
       "      <th>2</th>\n",
       "      <th>3</th>\n",
       "      <th>4</th>\n",
       "      <th>5</th>\n",
       "      <th>6</th>\n",
       "      <th>7</th>\n",
       "      <th>8</th>\n",
       "    </tr>\n",
       "    <tr>\n",
       "      <th>0</th>\n",
       "      <th></th>\n",
       "      <th></th>\n",
       "      <th></th>\n",
       "      <th></th>\n",
       "      <th></th>\n",
       "      <th></th>\n",
       "      <th></th>\n",
       "      <th></th>\n",
       "    </tr>\n",
       "  </thead>\n",
       "  <tbody>\n",
       "    <tr>\n",
       "      <th>TNFAIP8L2</th>\n",
       "      <td>0.007664</td>\n",
       "      <td>-0.054745</td>\n",
       "      <td>0.020132</td>\n",
       "      <td>-0.017255</td>\n",
       "      <td>0.060192</td>\n",
       "      <td>0.014966</td>\n",
       "      <td>-0.055646</td>\n",
       "      <td>0.050988</td>\n",
       "    </tr>\n",
       "    <tr>\n",
       "      <th>FAM102A</th>\n",
       "      <td>-0.017653</td>\n",
       "      <td>-0.041764</td>\n",
       "      <td>0.040962</td>\n",
       "      <td>0.046984</td>\n",
       "      <td>0.034170</td>\n",
       "      <td>-0.019739</td>\n",
       "      <td>0.040485</td>\n",
       "      <td>0.042029</td>\n",
       "    </tr>\n",
       "    <tr>\n",
       "      <th>CXCR4</th>\n",
       "      <td>-0.004586</td>\n",
       "      <td>0.013479</td>\n",
       "      <td>-0.039426</td>\n",
       "      <td>0.061475</td>\n",
       "      <td>-0.019202</td>\n",
       "      <td>-0.029176</td>\n",
       "      <td>0.010473</td>\n",
       "      <td>-0.044822</td>\n",
       "    </tr>\n",
       "    <tr>\n",
       "      <th>EBNA1BP2</th>\n",
       "      <td>-0.024190</td>\n",
       "      <td>0.030303</td>\n",
       "      <td>0.005047</td>\n",
       "      <td>-0.052961</td>\n",
       "      <td>-0.004977</td>\n",
       "      <td>-0.062102</td>\n",
       "      <td>-0.058747</td>\n",
       "      <td>-0.051593</td>\n",
       "    </tr>\n",
       "    <tr>\n",
       "      <th>GMNN</th>\n",
       "      <td>0.023840</td>\n",
       "      <td>0.010448</td>\n",
       "      <td>-0.018525</td>\n",
       "      <td>0.032117</td>\n",
       "      <td>0.005792</td>\n",
       "      <td>0.049402</td>\n",
       "      <td>0.033119</td>\n",
       "      <td>-0.013235</td>\n",
       "    </tr>\n",
       "    <tr>\n",
       "      <th>...</th>\n",
       "      <td>...</td>\n",
       "      <td>...</td>\n",
       "      <td>...</td>\n",
       "      <td>...</td>\n",
       "      <td>...</td>\n",
       "      <td>...</td>\n",
       "      <td>...</td>\n",
       "      <td>...</td>\n",
       "    </tr>\n",
       "    <tr>\n",
       "      <th>TRAV38-1</th>\n",
       "      <td>0.046085</td>\n",
       "      <td>-0.019390</td>\n",
       "      <td>0.041121</td>\n",
       "      <td>0.050590</td>\n",
       "      <td>-0.051420</td>\n",
       "      <td>-0.037592</td>\n",
       "      <td>-0.025264</td>\n",
       "      <td>0.028561</td>\n",
       "    </tr>\n",
       "    <tr>\n",
       "      <th>LYZ</th>\n",
       "      <td>-0.061699</td>\n",
       "      <td>-0.025620</td>\n",
       "      <td>0.028061</td>\n",
       "      <td>-0.053301</td>\n",
       "      <td>-0.059312</td>\n",
       "      <td>-0.005600</td>\n",
       "      <td>0.005772</td>\n",
       "      <td>-0.007870</td>\n",
       "    </tr>\n",
       "    <tr>\n",
       "      <th>TRBV5-1</th>\n",
       "      <td>-0.033344</td>\n",
       "      <td>0.054313</td>\n",
       "      <td>0.008754</td>\n",
       "      <td>-0.045582</td>\n",
       "      <td>-0.022257</td>\n",
       "      <td>0.012917</td>\n",
       "      <td>-0.054330</td>\n",
       "      <td>-0.060394</td>\n",
       "    </tr>\n",
       "    <tr>\n",
       "      <th>PDE7A</th>\n",
       "      <td>0.009705</td>\n",
       "      <td>0.054477</td>\n",
       "      <td>0.049752</td>\n",
       "      <td>0.004823</td>\n",
       "      <td>-0.028759</td>\n",
       "      <td>-0.034824</td>\n",
       "      <td>-0.011362</td>\n",
       "      <td>-0.031273</td>\n",
       "    </tr>\n",
       "    <tr>\n",
       "      <th>ORAI2</th>\n",
       "      <td>0.044388</td>\n",
       "      <td>0.037439</td>\n",
       "      <td>-0.051409</td>\n",
       "      <td>0.044019</td>\n",
       "      <td>-0.054877</td>\n",
       "      <td>-0.049825</td>\n",
       "      <td>-0.039958</td>\n",
       "      <td>-0.052355</td>\n",
       "    </tr>\n",
       "  </tbody>\n",
       "</table>\n",
       "<p>2013 rows × 8 columns</p>\n",
       "</div>"
      ],
      "text/plain": [
       "                  1         2         3         4         5         6  \\\n",
       "0                                                                       \n",
       "TNFAIP8L2  0.007664 -0.054745  0.020132 -0.017255  0.060192  0.014966   \n",
       "FAM102A   -0.017653 -0.041764  0.040962  0.046984  0.034170 -0.019739   \n",
       "CXCR4     -0.004586  0.013479 -0.039426  0.061475 -0.019202 -0.029176   \n",
       "EBNA1BP2  -0.024190  0.030303  0.005047 -0.052961 -0.004977 -0.062102   \n",
       "GMNN       0.023840  0.010448 -0.018525  0.032117  0.005792  0.049402   \n",
       "...             ...       ...       ...       ...       ...       ...   \n",
       "TRAV38-1   0.046085 -0.019390  0.041121  0.050590 -0.051420 -0.037592   \n",
       "LYZ       -0.061699 -0.025620  0.028061 -0.053301 -0.059312 -0.005600   \n",
       "TRBV5-1   -0.033344  0.054313  0.008754 -0.045582 -0.022257  0.012917   \n",
       "PDE7A      0.009705  0.054477  0.049752  0.004823 -0.028759 -0.034824   \n",
       "ORAI2      0.044388  0.037439 -0.051409  0.044019 -0.054877 -0.049825   \n",
       "\n",
       "                  7         8  \n",
       "0                              \n",
       "TNFAIP8L2 -0.055646  0.050988  \n",
       "FAM102A    0.040485  0.042029  \n",
       "CXCR4      0.010473 -0.044822  \n",
       "EBNA1BP2  -0.058747 -0.051593  \n",
       "GMNN       0.033119 -0.013235  \n",
       "...             ...       ...  \n",
       "TRAV38-1  -0.025264  0.028561  \n",
       "LYZ        0.005772 -0.007870  \n",
       "TRBV5-1   -0.054330 -0.060394  \n",
       "PDE7A     -0.011362 -0.031273  \n",
       "ORAI2     -0.039958 -0.052355  \n",
       "\n",
       "[2013 rows x 8 columns]"
      ]
     },
     "execution_count": 9,
     "metadata": {},
     "output_type": "execute_result"
    }
   ],
   "source": [
    "nodes_emb = pd.read_csv(os.path.join(export_path, \"gene2vec_dim_%s_iter_10.txt\") % dimension, sep=\" \", index_col=0, header=None)\n",
    "nodes_emb"
   ]
  },
  {
   "cell_type": "code",
   "execution_count": 10,
   "metadata": {},
   "outputs": [],
   "source": [
    "nodes_emb_dict = nodes_emb.T.to_dict('list')"
   ]
  },
  {
   "cell_type": "code",
   "execution_count": 11,
   "metadata": {},
   "outputs": [],
   "source": [
    "import pickle\n",
    "'''\n",
    "from src.utils.graph_utils import parse_grn\n",
    "\n",
    "graph_df = pd.read_parquet('hg19_TFinfo_dataframe_gimmemotifsv5_fpr2_threshold_10_20210630.parquet')\n",
    "nx_graph = parse_grn(graph_df, 'gene_short_name')\n",
    "\n",
    "pickle.dump(nx_graph, open('./grn.pkl', 'wb'))\n",
    "'''\n",
    "with open(graph, 'rb') as f:\n",
    "    nx_graph = pickle.load(f)"
   ]
  },
  {
   "cell_type": "code",
   "execution_count": 12,
   "metadata": {},
   "outputs": [],
   "source": [
    "for n in nodes:\n",
    "    if not nx_graph.has_node(n):\n",
    "        nx_graph.add_node(n)\n",
    "def filter_node(n):\n",
    "    return n in nodes\n",
    "nx_graph = nx.subgraph_view(nx_graph, filter_node)"
   ]
  },
  {
   "cell_type": "code",
   "execution_count": 13,
   "metadata": {},
   "outputs": [],
   "source": [
    "nodes_dict = dict(zip(nodes, range(len(nodes))))"
   ]
  },
  {
   "cell_type": "code",
   "execution_count": 14,
   "metadata": {},
   "outputs": [],
   "source": [
    "x = []\n",
    "edge_index = []\n",
    "for i, node in enumerate(nodes):\n",
    "    x.append(nodes_emb_dict[node])\n",
    "\n",
    "    edges = list(nx_graph.in_edges(node))\n",
    "    edges = [(nodes_dict[n[0]], i) for n in edges]\n",
    "    edge_index.extend(edges)"
   ]
  },
  {
   "cell_type": "code",
   "execution_count": 15,
   "metadata": {},
   "outputs": [
    {
     "data": {
      "text/plain": [
       "torch.Size([2013, 8])"
      ]
     },
     "execution_count": 15,
     "metadata": {},
     "output_type": "execute_result"
    }
   ],
   "source": [
    "x = torch.Tensor(x)\n",
    "x.size()"
   ]
  },
  {
   "cell_type": "code",
   "execution_count": 16,
   "metadata": {},
   "outputs": [
    {
     "data": {
      "text/plain": [
       "torch.Size([42563, 2])"
      ]
     },
     "execution_count": 16,
     "metadata": {},
     "output_type": "execute_result"
    }
   ],
   "source": [
    "edge_index = torch.LongTensor(edge_index)\n",
    "edge_index.size()"
   ]
  },
  {
   "cell_type": "code",
   "execution_count": 17,
   "metadata": {},
   "outputs": [],
   "source": [
    "grn = pyg.data.Data(x, edge_index.t())\n",
    "torch.save(grn, '%s_grn_%s.pth' % (dataset, dimension))"
   ]
  },
  {
   "cell_type": "code",
   "execution_count": 18,
   "metadata": {},
   "outputs": [
    {
     "data": {
      "text/plain": [
       "Data(x=[2013, 8], edge_index=[2, 42563])"
      ]
     },
     "execution_count": 18,
     "metadata": {},
     "output_type": "execute_result"
    }
   ],
   "source": [
    "torch.load('%s_grn_%s.pth' % (dataset, dimension))"
   ]
  }
 ],
 "metadata": {
  "kernelspec": {
   "display_name": "gvci-env",
   "language": "python",
   "name": "python3"
  },
  "language_info": {
   "codemirror_mode": {
    "name": "ipython",
    "version": 3
   },
   "file_extension": ".py",
   "mimetype": "text/x-python",
   "name": "python",
   "nbconvert_exporter": "python",
   "pygments_lexer": "ipython3",
   "version": "3.9.0"
  },
  "orig_nbformat": 4,
  "vscode": {
   "interpreter": {
    "hash": "246445985e60bb8ea4bb274899de12a0f6ebd665e13aa658c1b65f16957bb17a"
   }
  }
 },
 "nbformat": 4,
 "nbformat_minor": 2
}
